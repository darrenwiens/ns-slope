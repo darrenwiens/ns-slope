{
 "cells": [
  {
   "cell_type": "code",
   "execution_count": 2,
   "metadata": {
    "collapsed": true
   },
   "outputs": [],
   "source": [
    "import numpy as np"
   ]
  },
  {
   "cell_type": "code",
   "execution_count": 3,
   "metadata": {},
   "outputs": [
    {
     "data": {
      "text/plain": [
       "array([[15, 11, 32, 61, 42, 86, 97,  3,  2, 31],\n",
       "       [17, 73, 92, 29, 96, 37, 20, 83, 39, 16],\n",
       "       [ 7, 58, 65,  6, 10, 85, 72, 30, 67, 53],\n",
       "       [14, 56, 13, 51, 75, 63,  4, 87, 49, 54],\n",
       "       [69, 80, 21, 59, 23,  8, 50, 81, 25, 95],\n",
       "       [36, 47, 93, 70,  0, 34, 57, 26, 78,  9],\n",
       "       [55, 45, 44, 77, 19, 82, 94, 79, 71, 91],\n",
       "       [84, 24, 40, 43, 66,  1, 88, 48, 46, 27],\n",
       "       [52, 12, 38, 22,  5, 41, 62, 68, 28, 89],\n",
       "       [60, 74, 76, 33, 18, 35, 99, 64, 90, 98]])"
      ]
     },
     "execution_count": 3,
     "metadata": {},
     "output_type": "execute_result"
    }
   ],
   "source": [
    "# set up example array, but this could have started as a raster (e.g. load tif with rasterio)\n",
    "\n",
    "arr = np.arange(100)\n",
    "np.random.shuffle(arr)\n",
    "arr = arr.reshape(10,10)\n",
    "arr # random 10x10 array"
   ]
  },
  {
   "cell_type": "code",
   "execution_count": 12,
   "metadata": {},
   "outputs": [
    {
     "data": {
      "text/plain": [
       "array([[ 11.,  81.,  81., -73.,  80., -78., -83.,  83.,  75., -56.],\n",
       "       [-45., -56., -70., -67., -83.,  78.,  79., -79.,  70.,  75.],\n",
       "       [ 35., -11., -79.,  77.,  81., -66., -82.,  80., -61.,   6.],\n",
       "       [ 80.,  67.,  39.,  39., -79., -80.,  78., -31., -67.,  76.],\n",
       "       [-73., -73.,  82.,  48., -67.,  69.,  35., -80.,  79., -83.],\n",
       "       [ 62., -11., -78.,  35.,  62.,  78.,  75.,  79., -35.,  83.],\n",
       "       [ 71., -65., -22., -74.,  78., -83., -31., -72., -68., -81.],\n",
       "       [-73., -50., -11., -65., -81.,  76., -69.,  63., -61.,  81.],\n",
       "       [ 39.,  81.,  75.,  48.,  52., -31.,  75., -22.,  81.,  42.]])"
      ]
     },
     "execution_count": 12,
     "metadata": {},
     "output_type": "execute_result"
    }
   ],
   "source": [
    "cell_size = 10.0 # raster cell size\n",
    "\n",
    "rows = [] # initiate list\n",
    "for i in range(arr.shape[0]-1): # for each row\n",
    "    diffs = np.array(arr[i+1]-arr[i])/cell_size # subtract the current row from cell below\n",
    "    rads = np.arctan(diffs) # calculate slope, in radians\n",
    "    degs = np.degrees(rads) # convert to degrees\n",
    "    rows.append(degs) # add to list\n",
    "\n",
    "ns_slope = np.round(np.vstack(rows),0) # combine rows and round to int\n",
    "ns_slope # slope, in degrees, between cell and cell below\n",
    "\n",
    "# output this array to raster (e.g. using rasterio)"
   ]
  }
 ],
 "metadata": {
  "kernelspec": {
   "display_name": "Python 2",
   "language": "python",
   "name": "python2"
  },
  "language_info": {
   "codemirror_mode": {
    "name": "ipython",
    "version": 2
   },
   "file_extension": ".py",
   "mimetype": "text/x-python",
   "name": "python",
   "nbconvert_exporter": "python",
   "pygments_lexer": "ipython2",
   "version": "2.7.13"
  }
 },
 "nbformat": 4,
 "nbformat_minor": 2
}
