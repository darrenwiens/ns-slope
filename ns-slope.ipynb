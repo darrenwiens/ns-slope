{
 "cells": [
  {
   "cell_type": "code",
   "execution_count": 2,
   "metadata": {},
   "outputs": [],
   "source": [
    "import numpy as np"
   ]
  },
  {
   "cell_type": "code",
   "execution_count": 3,
   "metadata": {},
   "outputs": [
    {
     "data": {
      "text/plain": [
       "array([[23, 48, 17, 31, 87,  8, 43, 34,  6, 99],\n",
       "       [29, 42, 91,  9, 69,  5,  1, 57, 39, 93],\n",
       "       [21, 55, 96,  2, 38, 89, 64, 36, 51, 73],\n",
       "       [22, 94, 67, 50, 61,  7, 86, 26, 54,  0],\n",
       "       [79, 82, 80, 84, 41, 10, 77, 71, 81, 16],\n",
       "       [76, 46, 37, 95, 74, 59, 44, 56, 19, 62],\n",
       "       [66, 78, 52, 12, 11, 40, 92, 49, 58, 85],\n",
       "       [13, 47, 25, 15, 18, 70, 53, 27, 45, 88],\n",
       "       [28, 75, 24, 32, 35,  3, 63,  4, 65, 98],\n",
       "       [90, 14, 83, 60, 30, 68, 72, 97, 20, 33]])"
      ]
     },
     "execution_count": 3,
     "metadata": {},
     "output_type": "execute_result"
    }
   ],
   "source": [
    "# set up example array, but this could have started as a raster (e.g. load tif with rasterio)\n",
    "\n",
    "arr = np.arange(100)\n",
    "np.random.shuffle(arr)\n",
    "arr = arr.reshape(10,10)\n",
    "arr # random 10x10 array"
   ]
  },
  {
   "cell_type": "code",
   "execution_count": 4,
   "metadata": {},
   "outputs": [
    {
     "data": {
      "text/plain": [
       "array([[ 80, -80,  89, -87, -86, -71, -88,  87,  88, -80],\n",
       "       [-82,  85,  78, -81, -88,  89,  89, -87,  85, -87],\n",
       "       [ 45,  88, -88,  88,  87, -89,  87, -84,  71, -89],\n",
       "       [ 88, -85,  85,  88, -87,  71, -83,  88,  87,  86],\n",
       "       [-71, -88, -88,  84,  88,  88, -88, -86, -89,  88],\n",
       "       [-84,  88,  86, -89, -89, -86,  88, -81,  88,  87],\n",
       "       [-88, -88, -87,  71,  81,  88, -88, -87, -85,  71],\n",
       "       [ 86,  87, -45,  86,  86, -89,  84, -87,  87,  84],\n",
       "       [ 89, -89,  89,  87, -78,  89,  83,  89, -88, -89]])"
      ]
     },
     "execution_count": 4,
     "metadata": {},
     "output_type": "execute_result"
    }
   ],
   "source": [
    "rows = [] # initiate list\n",
    "for i in range(arr.shape[0]-1): # for each row\n",
    "    diffs = np.array(arr[i+1]-arr[i]) # subtract the current row from cell below\n",
    "    rads = np.arctan(diffs) # calculate slope, in radians\n",
    "    degs = np.degrees(rads) # convert to degrees\n",
    "    rows.append(degs) # add to list\n",
    "\n",
    "ns_slope = np.vstack(rows).astype(int) # combine rows and convert to int\n",
    "ns_slope # slope, in degrees, between cell and cell below\n",
    "\n",
    "# output this array to raster (e.g. using rasterio)"
   ]
  },
  {
   "cell_type": "code",
   "execution_count": null,
   "metadata": {
    "collapsed": true
   },
   "outputs": [],
   "source": []
  }
 ],
 "metadata": {
  "kernelspec": {
   "display_name": "Python 2",
   "language": "python",
   "name": "python2"
  },
  "language_info": {
   "codemirror_mode": {
    "name": "ipython",
    "version": 2
   },
   "file_extension": ".py",
   "mimetype": "text/x-python",
   "name": "python",
   "nbconvert_exporter": "python",
   "pygments_lexer": "ipython2",
   "version": "2.7.13"
  }
 },
 "nbformat": 4,
 "nbformat_minor": 2
}
